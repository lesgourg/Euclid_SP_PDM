{
 "cells": [
  {
   "cell_type": "code",
   "execution_count": 1,
   "metadata": {},
   "outputs": [],
   "source": [
    "## compare the impact of the one-body decaying DM parameters in \n",
    "# - CLASS (linear) \n",
    "# - CLASS (non-linear) \n",
    "# - emulator from Jonathan Hubert et al., JCAP10(2021)040\n",
    "#\n",
    "# This script has been used most recently with class v3.1.2 after correcting a bug:\n",
    "# source/input.c line 3010: add\n",
    "#  Omega_tot += pba->Omega0_dcdmdr;\n",
    "# This bug is expected to be fixed in the next days in v3.1.3"
   ]
  },
  {
   "cell_type": "code",
   "execution_count": 2,
   "metadata": {},
   "outputs": [],
   "source": [
    "### import relevant modules\n",
    "from classy import Class\n",
    "import numpy as np\n",
    "from matplotlib import pyplot as plt"
   ]
  },
  {
   "cell_type": "markdown",
   "metadata": {},
   "source": [
    "## Unit conversion factor for decay rate"
   ]
  },
  {
   "cell_type": "code",
   "execution_count": 3,
   "metadata": {},
   "outputs": [
    {
     "data": {
      "text/latex": [
       "$977.79222 \\; \\mathrm{\\frac{km}{Mpc\\,s}}$"
      ],
      "text/plain": [
       "<Quantity 977.79222168 km / (Mpc s)>"
      ]
     },
     "execution_count": 3,
     "metadata": {},
     "output_type": "execute_result"
    }
   ],
   "source": [
    "### Run this only if you need to do unit conversions\n",
    "\n",
    "#### Converting the value of Gamma to km/s/Mpc\n",
    "from astropy import units as u\n",
    "\n",
    "### Set the value below\n",
    "gamma_value = 1     # in units Gyr**(-1)\n",
    "\n",
    "### Conversion takes place below\n",
    "(gamma_value*u.Gyr**(-1)).to(u.km/u.Mpc/u.s)"
   ]
  },
  {
   "cell_type": "markdown",
   "metadata": {},
   "source": [
    "## Class"
   ]
  },
  {
   "cell_type": "code",
   "execution_count": 4,
   "metadata": {},
   "outputs": [],
   "source": [
    "### choose common settings\n",
    "Omega_m = 0.307\n",
    "Omega_b = 0.048\n",
    "A_s=2.43e-9\n",
    "h = 0.678\n",
    "n_s = 0.96\n",
    "f = 0.4      # fraction of DDM\n",
    "gamma=1/31.6 # decay rate in 1/Gyr\n",
    "\n",
    "# redhsift and maximum k in the plots\n",
    "kmax = 3\n",
    "z=0\n",
    "\n",
    "# derived parameters\n",
    "omega_b  = Omega_b*h**2\n",
    "Omega_dm = Omega_m-Omega_b\n",
    "omega_dm = Omega_dm*h**2\n",
    "\n",
    "common_settings={ \n",
    "                    'output' : 'mPk',\n",
    "                    'non linear' : 'halofit',\n",
    "                    'P_k_max_h/Mpc' : kmax,\n",
    "                    'h' : h,\n",
    "                    'omega_b' : omega_b,\n",
    "                    'n_s' : n_s,\n",
    "                    'A_s' : A_s,\n",
    "                    'z_reio' : 9.9,\n",
    "                    'z_max_pk':2\n",
    "                }\n",
    "\n",
    "kk = np.logspace(np.log10(1e-3),np.log10(1),1000)"
   ]
  },
  {
   "cell_type": "code",
   "execution_count": 5,
   "metadata": {},
   "outputs": [],
   "source": [
    "### compute P_LCDM^NL(k,z)\n",
    "lcdm = Class()\n",
    "lcdm.set(common_settings)\n",
    "lcdm.set({'omega_cdm' : omega_dm})\n",
    "lcdm.compute()\n",
    "pk_cdm = np.vectorize(lcdm.pk)(kk,z)\n",
    "pk_cdm_lin = np.vectorize(lcdm.pk_lin)(kk,z)"
   ]
  },
  {
   "cell_type": "code",
   "execution_count": 6,
   "metadata": {},
   "outputs": [],
   "source": [
    "### compute P_DDM^NL(k,z) from CLASS\n",
    "ddm = Class()\n",
    "ddm.set(common_settings)\n",
    "ddm.set({\n",
    "        #'omega_dcdmdr' : f*omega_dm,\n",
    "        'omega_ini_dcdm' : f*omega_dm,\n",
    "        'omega_cdm'    : omega_dm*(1.-f),\n",
    "        'Gamma_dcdm'   : 9.777922e2*gamma\n",
    "        })\n",
    "ddm.compute()\n",
    "pk_ddm = np.vectorize(ddm.pk)(kk,z)\n",
    "pk_ddm_lin = np.vectorize(ddm.pk_lin)(kk,z)"
   ]
  },
  {
   "cell_type": "markdown",
   "metadata": {},
   "source": [
    "## Emulator"
   ]
  },
  {
   "cell_type": "code",
   "execution_count": 7,
   "metadata": {},
   "outputs": [],
   "source": [
    "### This function predicts epsilon = 1-P_DDM^NL(k,z)/P_LCDM^NL(k,z) for each Gamma_DDM and f_DDM\n",
    "### The comsological parameters are passed through the cosmo class\n",
    "def epsilon_nonlin(cosmo,𝛤,f,k,z): \n",
    "\n",
    "    h = cosmo.h()\n",
    "    omega_m = cosmo.Omega_m()*h**2\n",
    "    omega_b = cosmo.omega_b()\n",
    "    u = omega_b/0.02216\n",
    "    v = h/0.6776\n",
    "    w = omega_m/0.14116\n",
    "\n",
    "    a = 0.7208 + 2.027 * 𝛤 + 3.0310*(1/(1+1.1*z))-0.18\n",
    "    b = 0.0120 + 2.786 * 𝛤 + 0.6699*(1/(1+1.1*z))-0.09\n",
    "    p = 1.045 + 1.225  * 𝛤 + 0.2207*(1/(1+1.1*z))-0.099\n",
    "    q = 0.9922 + 1.735 * 𝛤 + 0.2154*(1/(1+1.1*z))-0.056\n",
    "    \n",
    "    alpha = (5.323 - 1.4644*u - 1.391*v) + (-2.055+1.329*u+0.8673*v)*w + (0.2682-0.3509*u)*w**2\n",
    "    beta  = (0.9260) + (0.05735 - 0.02690*v)*w + (-0.01373 + 0.006713*v)*w**2\n",
    "    gamma = (9.553 - 0.7860*v)+(0.4884+0.1754*v)*w + (-0.2512+0.07558*v)*w**2\n",
    "\n",
    "    epsilon_lin = alpha * (𝛤)**beta * (1/(0.105*z + 1))**gamma\n",
    "    ratio = (1+a*k**p)/(1+b*k**q)*f\n",
    "\n",
    "    return epsilon_lin * ratio"
   ]
  },
  {
   "cell_type": "code",
   "execution_count": 8,
   "metadata": {},
   "outputs": [],
   "source": [
    "### This function predicts epsilon = 1-P_DDM^NL(k,z)/P_LCDM^NL(k,z) for each Gamma_DDM and f_DDM\n",
    "### The comsological parameters are passed through the cosmo class\n",
    "#def epsilon_nonlin(cosmo,𝛤,f,k,z):\n",
    "def nl_suppression(cosmo,𝛤,f,k,z):    \n",
    "\n",
    "    h = cosmo.h()\n",
    "    omega_m = cosmo.Omega_m()*h**2\n",
    "    omega_b = cosmo.omega_b()\n",
    "    u = omega_b/0.02216\n",
    "    v = h/0.6776\n",
    "    w = omega_m/0.14116\n",
    "\n",
    "    a = 0.7208 + 2.027 * 𝛤 + 3.0310*(1/(1+1.1*z))-0.18\n",
    "    b = 0.0120 + 2.786 * 𝛤 + 0.6699*(1/(1+1.1*z))-0.09\n",
    "    p = 1.045 + 1.225  * 𝛤 + 0.2207*(1/(1+1.1*z))-0.099\n",
    "    q = 0.9922 + 1.735 * 𝛤 + 0.2154*(1/(1+1.1*z))-0.056\n",
    "    \n",
    "    alpha = (5.323 - 1.4644*u - 1.391*v) + (-2.055+1.329*u+0.8673*v)*w + (0.2682-0.3509*u)*w**2\n",
    "    beta  = (0.9260) + (0.05735 - 0.02690*v)*w + (-0.01373 + 0.006713*v)*w**2\n",
    "    gamma = (9.553 - 0.7860*v)+(0.4884+0.1754*v)*w + (-0.2512+0.07558*v)*w**2\n",
    "\n",
    "    epsilon_lin = alpha * (𝛤)**beta * (1/(0.105*z + 1))**gamma\n",
    "    ratio = (1+a*k**p)/(1+b*k**q)*f\n",
    "\n",
    "    #print ('epsilon_lin=',(1.-epsilon_lin))\n",
    "    return (1.-epsilon_lin * ratio)/(1.-epsilon_lin*f)\n",
    "    #return (1.-epsilon_lin * ratio)"
   ]
  },
  {
   "cell_type": "markdown",
   "metadata": {},
   "source": [
    "## Plotting"
   ]
  },
  {
   "cell_type": "markdown",
   "metadata": {},
   "source": [
    "### Fitting function\n",
    "\n",
    "The fitting function we are given in the paper is the following,\n",
    "$$ P_{DDM}/P_{CDM} = 1- \\epsilon_{non lin} (k) $$\n",
    "\n",
    "Below we below plot all the different plots which can be studied."
   ]
  },
  {
   "cell_type": "code",
   "execution_count": 9,
   "metadata": {},
   "outputs": [],
   "source": [
    "## General plot settings to be used for all plots\n",
    "def plot_settings(x) :\n",
    "    return x.legend(fontsize=13),x.set_xlabel('k [1/Mpc]',fontsize=14)"
   ]
  },
  {
   "cell_type": "markdown",
   "metadata": {},
   "source": [
    "Below we plot the ratio $P_{DDM} / P_{CDM}$ and $ 1 - \\epsilon_{non lin}(k)$"
   ]
  },
  {
   "cell_type": "code",
   "execution_count": 10,
   "metadata": {},
   "outputs": [
    {
     "data": {
      "text/plain": [
       "(<matplotlib.legend.Legend at 0x13a1b67c0>, Text(0.5, 0, 'k [1/Mpc]'))"
      ]
     },
     "execution_count": 10,
     "metadata": {},
     "output_type": "execute_result"
    },
    {
     "data": {
      "image/png": "[encoded data removed]",
      "text/plain": [
       "<Figure size 432x288 with 1 Axes>"
      ]
     },
     "metadata": {
      "needs_background": "light"
     },
     "output_type": "display_data"
    }
   ],
   "source": [
    "fig,ax = plt.subplots(nrows=1,ncols=1)\n",
    "ax.semilogx(kk,pk_ddm_lin/pk_cdm_lin, label = r'$P_{DDM}^{L} / P_{CDM}^{L}$ Class')\n",
    "#ax.semilogx(kk,pk_ddm/pk_cdm,':r', label = r'$P_{DDM}^{NL} / P_{CDM}^{NL}$ Halofit')\n",
    "ax.semilogx(kk,(1-epsilon_nonlin(lcdm,gamma,f,kk,z)),label=r'$1-\\epsilon_{non lin} (k)$')\n",
    "ax.semilogx(kk,pk_ddm_lin/pk_cdm_lin*nl_suppression(lcdm,gamma,f,kk,z),\n",
    "            label=r'$(P_{DDM}^{L} / P_{CDM}^{L})\\times$ emulator')\n",
    "ax.set_title(r'$f=$'+r'{a}'.format(a=f)+r',  $\\Gamma=$'+r'{a:.2}'.format(a=gamma)+r' Gyr$^{-1}$')\n",
    "ax.set_ylim(0.9,1.01)\n",
    "plot_settings(ax)"
   ]
  },
  {
   "cell_type": "code",
   "execution_count": null,
   "metadata": {},
   "outputs": [],
   "source": []
  }
 ],
 "metadata": {
  "interpreter": {
   "hash": "e9ea88f094caa5475477c24638b90341ec278b3b4334ddd07757587aed56e032"
  },
  "kernelspec": {
   "display_name": "Python 3",
   "language": "python",
   "name": "python3"
  },
  "language_info": {
   "codemirror_mode": {
    "name": "ipython",
    "version": 3
   },
   "file_extension": ".py",
   "mimetype": "text/x-python",
   "name": "python",
   "nbconvert_exporter": "python",
   "pygments_lexer": "ipython3",
   "version": "3.9.7"
  }
 },
 "nbformat": 4,
 "nbformat_minor": 2
}
