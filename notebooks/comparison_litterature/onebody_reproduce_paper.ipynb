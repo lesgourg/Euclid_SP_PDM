{
 "cells": [
  {
   "cell_type": "code",
   "execution_count": null,
   "id": "1a6b4449",
   "metadata": {},
   "outputs": [],
   "source": [
    "## compare P(k,z)_DDM^L with Poulin et al.\n",
    "#\n",
    "# This script has been used most reently with class v3.1.2 after correcting a bug:\n",
    "# source/input.c line 3010: add\n",
    "#  Omega_tot += pba->Omega0_dcdmdr;\n",
    "# This bug is expected to be fixed in the next days in v3.1.3"
   ]
  },
  {
   "cell_type": "code",
   "execution_count": 1,
   "id": "838f593b",
   "metadata": {
    "ExecuteTime": {
     "end_time": "2022-01-31T11:47:21.151172Z",
     "start_time": "2022-01-31T11:47:21.148376Z"
    }
   },
   "outputs": [],
   "source": [
    "from classy import Class\n",
    "from matplotlib import pyplot as plt\n",
    "import numpy as np"
   ]
  },
  {
   "cell_type": "code",
   "execution_count": 2,
   "id": "ae4291df",
   "metadata": {
    "ExecuteTime": {
     "end_time": "2022-01-31T11:47:21.904430Z",
     "start_time": "2022-01-31T11:47:21.683915Z"
    }
   },
   "outputs": [
    {
     "data": {
      "text/latex": [
       "$9.7779222 \\times 10^{8} \\; \\mathrm{\\frac{km}{Mpc\\,s}}$"
      ],
      "text/plain": [
       "<Quantity 9.77792222e+08 km / (Mpc s)>"
      ]
     },
     "execution_count": 2,
     "metadata": {},
     "output_type": "execute_result"
    }
   ],
   "source": [
    "#### Converting the value of Gamma to km/s/Mpc\n",
    "from astropy import units as u\n",
    "\n",
    "### Set the value below\n",
    "gamma_value = 1e6     # in units Gyr**(-1)\n",
    "\n",
    "### Conversion takes place below\n",
    "(gamma_value*u.Gyr**(-1)).to(u.km/u.Mpc/u.s)"
   ]
  },
  {
   "cell_type": "code",
   "execution_count": 3,
   "id": "a703a9b6",
   "metadata": {
    "ExecuteTime": {
     "end_time": "2022-01-31T11:47:43.811864Z",
     "start_time": "2022-01-31T11:47:41.307910Z"
    }
   },
   "outputs": [],
   "source": [
    "kmax = 1\n",
    "\n",
    "## Parameters taken from the paper section 3.1\n",
    "common_settings = {'output':'mPk','P_k_max_h/Mpc':kmax,\n",
    "                   'omega_b' : 0.02225,\n",
    "                   'n_s' : 0.9645,\n",
    "                   'z_reio' : 9.9\n",
    "                  }\n",
    "kk = np.logspace(np.log10(0.001),np.log10(2e-1),1000)\n",
    "\n",
    "ref = Class()\n",
    "ref.set(common_settings)\n",
    "ref.set({'100*theta_s':1.041783,\n",
    "         'omega_cdm':0.1198,\n",
    "        })\n",
    "ref.compute()\n",
    "h = ref.h()\n",
    "\n",
    "f_dcdm = 0.2\n",
    "dm = 0.1198\n",
    "\n",
    "model = Class()\n",
    "model.empty()\n",
    "model.set(common_settings)\n",
    "model.set({'100*theta_s':1.041783,\n",
    "           'omega_ini_dcdm' : f_dcdm*dm,\n",
    "           'omega_cdm' : dm*(1-f_dcdm),\n",
    "           'Gamma_dcdm' : 97.77922e8\n",
    "          })\n",
    "model.compute()\n",
    "h_model = model.h()"
   ]
  },
  {
   "cell_type": "code",
   "execution_count": 4,
   "id": "b8322186",
   "metadata": {
    "ExecuteTime": {
     "end_time": "2022-01-31T10:14:28.670985Z",
     "start_time": "2022-01-31T10:14:28.662713Z"
    }
   },
   "outputs": [],
   "source": [
    "kk = np.logspace(np.log10(1e-3),np.log10(5e-1),1000)\n",
    "pk_ref = np.vectorize(ref.pk_lin)(kk*h,0)"
   ]
  },
  {
   "cell_type": "code",
   "execution_count": 5,
   "id": "b29b758f",
   "metadata": {
    "ExecuteTime": {
     "end_time": "2022-01-31T10:14:29.883160Z",
     "start_time": "2022-01-31T10:14:29.231366Z"
    },
    "scrolled": true
   },
   "outputs": [
    {
     "data": {
      "text/plain": [
       "<matplotlib.legend.Legend at 0x1399f0b80>"
      ]
     },
     "execution_count": 5,
     "metadata": {},
     "output_type": "execute_result"
    },
    {
     "data": {
      "image/png": "[encoded data removed]",
      "text/plain": [
       "<Figure size 432x288 with 1 Axes>"
      ]
     },
     "metadata": {
      "needs_background": "light"
     },
     "output_type": "display_data"
    }
   ],
   "source": [
    "plt.loglog(kk,pk_ref*h**3,label='Planck',color='black')\n",
    "plt.loglog(kk,np.vectorize(model.pk)(kk*h_model,0)*h_model**3,label='dcdm')\n",
    "plt.title('f = {}'.format(f_dcdm))\n",
    "plt.ylim((1e2,1e5))\n",
    "plt.xlim((1e-3,4e-1))\n",
    "plt.legend()"
   ]
  },
  {
   "cell_type": "code",
   "execution_count": null,
   "id": "d21a02e0",
   "metadata": {},
   "outputs": [],
   "source": []
  }
 ],
 "metadata": {
  "kernelspec": {
   "display_name": "Python 3 (ipykernel)",
   "language": "python",
   "name": "python3"
  },
  "language_info": {
   "codemirror_mode": {
    "name": "ipython",
    "version": 3
   },
   "file_extension": ".py",
   "mimetype": "text/x-python",
   "name": "python",
   "nbconvert_exporter": "python",
   "pygments_lexer": "ipython3",
   "version": "3.9.6"
  },
  "toc": {
   "base_numbering": 1,
   "nav_menu": {},
   "number_sections": false,
   "sideBar": true,
   "skip_h1_title": false,
   "title_cell": "Table of Contents",
   "title_sidebar": "Contents",
   "toc_cell": false,
   "toc_position": {},
   "toc_section_display": true,
   "toc_window_display": false
  },
  "varInspector": {
   "cols": {
    "lenName": 16,
    "lenType": 16,
    "lenVar": 40
   },
   "kernels_config": {
    "python": {
     "delete_cmd_postfix": "",
     "delete_cmd_prefix": "del ",
     "library": "var_list.py",
     "varRefreshCmd": "print(var_dic_list())"
    },
    "r": {
     "delete_cmd_postfix": ") ",
     "delete_cmd_prefix": "rm(",
     "library": "var_list.r",
     "varRefreshCmd": "cat(var_dic_list()) "
    }
   },
   "types_to_exclude": [
    "module",
    "function",
    "builtin_function_or_method",
    "instance",
    "_Feature"
   ],
   "window_display": false
  }
 },
 "nbformat": 4,
 "nbformat_minor": 5
}
