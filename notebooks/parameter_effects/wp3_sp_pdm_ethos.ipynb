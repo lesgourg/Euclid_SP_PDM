{
 "cells": [
  {
   "cell_type": "markdown",
   "metadata": {},
   "source": [
    "Plotting the impact on P_L(k,z=0) of the parameters of ETHOS n=0,2,4. Meant to work with the public CLASS (written for v3.1)"
   ]
  },
  {
   "cell_type": "code",
   "execution_count": null,
   "metadata": {
    "ExecuteTime": {
     "end_time": "2022-01-25T10:14:50.685709Z",
     "start_time": "2022-01-25T10:14:49.811651Z"
    }
   },
   "outputs": [],
   "source": [
    "from classy import Class\n",
    "from matplotlib import pyplot as plt\n",
    "import numpy as np"
   ]
  },
  {
   "cell_type": "code",
   "execution_count": null,
   "metadata": {},
   "outputs": [],
   "source": [
    "# Reference model\n",
    "\n",
    "kmax = 100\n",
    "dm = 0.1201075\n",
    "neff=3.044\n",
    "dneff=0.03\n",
    "\n",
    "kk = np.logspace(np.log10(0.001),np.log10(kmax),1000)\n",
    "\n",
    "lcdm = Class()\n",
    "lcdm.set({\n",
    "    'output':'mPk',\n",
    "    'omega_cdm':dm,\n",
    "    'N_ur':neff,\n",
    "    'P_k_max_h/Mpc':kmax\n",
    "          })\n",
    "lcdm.compute()\n",
    "h = lcdm.h()\n",
    "pk_lcdm = np.vectorize(lcdm.pk_lin)(kk*h,0)\n",
    "\n",
    "ref = Class()\n",
    "ref.set({\n",
    "    'output':'mPk',\n",
    "    'omega_cdm':dm,\n",
    "    'N_ur':neff+dneff,\n",
    "    'P_k_max_h/Mpc':kmax\n",
    "          })\n",
    "ref.compute()\n",
    "h = ref.h()\n",
    "pk_ref = np.vectorize(ref.pk_lin)(kk*h,0)"
   ]
  },
  {
   "cell_type": "code",
   "execution_count": null,
   "metadata": {
    "ExecuteTime": {
     "end_time": "2022-01-26T15:44:06.692044Z",
     "start_time": "2022-01-26T15:43:37.588260Z"
    },
    "scrolled": true
   },
   "outputs": [],
   "source": [
    "# ETHOS n=0\n",
    "\n",
    "model = Class()\n",
    "model.empty()\n",
    "m=20\n",
    "dm = 0.1201075\n",
    "a_list = np.linspace(-2,-1.,5)\n",
    "\n",
    "fig, ax = plt.subplots(nrows=1,ncols=2,figsize=(11,4))\n",
    "\n",
    "for a in a_list :\n",
    "    model.set({\n",
    "        'output':'mPk',\n",
    "        'nindex_idm_dr':0,\n",
    "        'N_ur':neff,\n",
    "        'N_idr':dneff,\n",
    "        'omega_cdm':0.,\n",
    "        'omega_idm_dr':dm,\n",
    "        'a_idm_dr':10**a,\n",
    "        'P_k_max_h/Mpc':kmax,\n",
    "        #'perturbations_verbose':3\n",
    "              })\n",
    "    print (\"Compute for log10a=\",a)\n",
    "    model.compute()\n",
    "    h=model.h()\n",
    "    print ('dNeff=',model.Neff()-neff)\n",
    "    \n",
    "    ax[0].plot(kk,np.vectorize(model.pk_lin)(kk*h,0) /pk_ref, label = r'$\\log_{10}(a/[\\mathrm{Mpc}]^{-1})$'+ '= {a}'.format(a=a) )\n",
    "    ax[1].plot(kk,np.vectorize(model.pk_lin)(kk*h,0) /pk_lcdm, label = r'$\\log_{10}(a/[\\mathrm{Mpc}]^{-1})$'+ '= {a}'.format(a=a) )\n",
    "    \n",
    "    ax[0].set_xscale('log')\n",
    "    ax[0].set_yscale('linear')\n",
    "    ax[1].set_xscale('log')\n",
    "    ax[1].set_yscale('linear')\n",
    "    \n",
    "    ax[0].set_ylabel(r'$P_l(k,z=0)_\\mathrm{ETHOS} \\ \\ / \\ \\ P_l(k,z=0)_{\\Lambda\\mathrm{CDM}+N_\\mathrm{eff}}$', fontsize=13)\n",
    "    ax[0].set_xlabel(r'k [h/Mpc]', fontsize=13)\n",
    "    #plt.title(r'$x = \\frac{m_\\mathrm{WDM}}{T_\\mathrm{WDM}} \\left(\\frac{4}{11}\\right)^{1/3} T_\\gamma$= {a} eV'.format(a=m))\n",
    "    ax[0].set_title(r'$n=0, \\, \\Delta N_\\mathrm{eff} =$'+r'{a}'.format(a=dneff))\n",
    "    ax[0].legend()\n",
    "    \n",
    "    ax[1].set_ylabel(r'$P_l(k,z=0)_\\mathrm{ETHOS} \\ \\ / \\ \\ P_l(k,z=0)_{\\Lambda\\mathrm{CDM}}$', fontsize=13)\n",
    "    ax[1].set_xlabel(r'k [h/Mpc]', fontsize=13)\n",
    "    #plt.title(r'$x = \\frac{m_\\mathrm{WDM}}{T_\\mathrm{WDM}} \\left(\\frac{4}{11}\\right)^{1/3} T_\\gamma$= {a} eV'.format(a=m))\n",
    "    ax[1].set_title(r'$n=0, \\, \\Delta N_\\mathrm{eff} =$'+r'{a}'.format(a=dneff))\n",
    "    ax[1].legend()\n",
    "    \n",
    "    plt.tight_layout()\n",
    "    plt.savefig('ratio_of_pklin.png')"
   ]
  },
  {
   "cell_type": "code",
   "execution_count": null,
   "metadata": {
    "ExecuteTime": {
     "end_time": "2022-01-26T15:44:06.692044Z",
     "start_time": "2022-01-26T15:43:37.588260Z"
    },
    "scrolled": true
   },
   "outputs": [],
   "source": [
    "############ ETHOS n=0 ##################\n",
    "\n",
    "model = Class()\n",
    "model.empty()\n",
    "dm = 0.1201075\n",
    "n_ethos=0\n",
    "\n",
    "comb_list = np.linspace(1.,10.,2)\n",
    "xi_list = np.linspace(0.1,0.3,2)\n",
    "\n",
    "for xi in xi_list:\n",
    "    for comb in comb_list:\n",
    "        a = 10**(n_ethos-4.) * comb / xi**4\n",
    "        print ('xi,comb,a',xi,comb,a)\n",
    "        model.set({\n",
    "            'output':'mPk',\n",
    "            'nindex_idm_dr':n_ethos,\n",
    "            'N_ur':neff,\n",
    "            'xi_idr':xi,\n",
    "            'omega_cdm':0.,\n",
    "            'omega_idm_dr':dm,\n",
    "            'a_idm_dr':a,\n",
    "            'P_k_max_h/Mpc':kmax\n",
    "                  })\n",
    "        print ('compute for xi,log10a=',xi,a)\n",
    "        model.compute()\n",
    "        h=model.h()\n",
    "        print ('dNeff=',model.Neff()-neff)\n",
    "    \n",
    "        plt.plot(kk,np.vectorize(model.pk_lin)(kk*h,0) /pk_lcdm, \n",
    "                 label = r'$\\xi$='+'{a}'.format(a=xi)+r', $10^{4-n}a \\xi^4/[\\mathrm{Mpc}]^{-1}$'+ '= {a}'.format(a=comb) )\n",
    " \n",
    "        plt.xscale('log')\n",
    "        plt.yscale('linear')\n",
    "    \n",
    "        plt.ylabel(r'$P_l(k,z=0)_\\mathrm{ETHOS} \\ \\ / \\ \\ P_l(k,z=0)_{\\Lambda\\mathrm{CDM}}$', fontsize=13)\n",
    "        plt.xlabel(r'k [h/Mpc]', fontsize=13)\n",
    "        #plt.title(r'$x = \\frac{m_\\mathrm{WDM}}{T_\\mathrm{WDM}} \\left(\\frac{4}{11}\\right)^{1/3} T_\\gamma$= {a} eV'.format(a=m))\n",
    "        plt.title(r'$n=$'+r'{a}'.format(a=n_ethos))\n",
    "        plt.legend()\n",
    "    \n",
    "        plt.savefig('ratio_of_pklin.png')"
   ]
  },
  {
   "cell_type": "code",
   "execution_count": null,
   "metadata": {
    "ExecuteTime": {
     "end_time": "2022-01-26T15:44:06.692044Z",
     "start_time": "2022-01-26T15:43:37.588260Z"
    },
    "scrolled": true
   },
   "outputs": [],
   "source": [
    "############ ETHOS n=2 ##################\n",
    "\n",
    "model = Class()\n",
    "model.empty()\n",
    "dm = 0.1201075\n",
    "n_ethos=2\n",
    "\n",
    "comb_list = np.linspace(1.,10.,2)\n",
    "xi_list = np.linspace(0.1,0.3,2)\n",
    "\n",
    "for xi in xi_list:\n",
    "    for comb in comb_list:\n",
    "        a = 10**(n_ethos-4.) * comb / xi**4\n",
    "        print ('xi,comb,a',xi,comb,a)\n",
    "        model.set({\n",
    "            'output':'mPk',\n",
    "            'nindex_idm_dr':n_ethos,\n",
    "            'N_ur':neff,\n",
    "            'xi_idr':xi,\n",
    "            'omega_cdm':0.,\n",
    "            'omega_idm_dr':dm,\n",
    "            'a_idm_dr':a,\n",
    "            'P_k_max_h/Mpc':kmax\n",
    "                  })\n",
    "        print ('compute for xi,log10a=',xi,a)\n",
    "        model.compute()\n",
    "        h=model.h()\n",
    "        print ('dNeff=',model.Neff()-neff)\n",
    "    \n",
    "        plt.plot(kk,np.vectorize(model.pk_lin)(kk*h,0) /pk_lcdm, \n",
    "                 label = r'$\\xi$='+'{a}'.format(a=xi)+r', $10^{4-n}a \\xi^4/[\\mathrm{Mpc}]^{-1}$'+ '= {a}'.format(a=comb) )\n",
    " \n",
    "        plt.xscale('log')\n",
    "        plt.yscale('linear')\n",
    "    \n",
    "        plt.ylabel(r'$P_l(k,z=0)_\\mathrm{ETHOS} \\ \\ / \\ \\ P_l(k,z=0)_{\\Lambda\\mathrm{CDM}}$', fontsize=13)\n",
    "        plt.xlabel(r'k [h/Mpc]', fontsize=13)\n",
    "        #plt.title(r'$x = \\frac{m_\\mathrm{WDM}}{T_\\mathrm{WDM}} \\left(\\frac{4}{11}\\right)^{1/3} T_\\gamma$= {a} eV'.format(a=m))\n",
    "        plt.title(r'$n=$'+r'{a}'.format(a=n_ethos))\n",
    "        plt.legend()\n",
    "    \n",
    "        plt.savefig('ratio_of_pklin.png')"
   ]
  },
  {
   "cell_type": "code",
   "execution_count": null,
   "metadata": {
    "ExecuteTime": {
     "end_time": "2022-01-26T15:44:06.692044Z",
     "start_time": "2022-01-26T15:43:37.588260Z"
    },
    "scrolled": true
   },
   "outputs": [],
   "source": [
    "############ ETHOS n=4 ##################\n",
    "\n",
    "model = Class()\n",
    "model.empty()\n",
    "dm = 0.1201075\n",
    "n_ethos=4\n",
    "\n",
    "comb_list = np.linspace(1.,10.,2)\n",
    "xi_list = np.linspace(0.1,0.3,2)\n",
    "\n",
    "for xi in xi_list:\n",
    "    for comb in comb_list:\n",
    "        a = 10**(n_ethos-4) * comb / xi**4\n",
    "        print ('xi,comb,a',xi,comb,a)\n",
    "        model.set({\n",
    "            'output':'mPk',\n",
    "            'nindex_idm_dr':n_ethos,\n",
    "            'N_ur':neff,\n",
    "            'xi_idr':xi,\n",
    "            'omega_cdm':0.,\n",
    "            'omega_idm_dr':dm,\n",
    "            'a_idm_dr':a,\n",
    "            'P_k_max_h/Mpc':kmax\n",
    "                  })\n",
    "        print ('compute for xi,log10a=',xi,a)\n",
    "        model.compute()\n",
    "        h=model.h()\n",
    "        print ('dNeff=',model.Neff()-neff)\n",
    "    \n",
    "        plt.plot(kk,np.vectorize(model.pk_lin)(kk*h,0) /pk_lcdm, \n",
    "                 label = r'$\\xi$='+'{a}'.format(a=xi)+r', $10^{4-n}a \\xi^4/[\\mathrm{Mpc}]^{-1}$'+ '= {a}'.format(a=comb) )\n",
    " \n",
    "        plt.xscale('log')\n",
    "        plt.yscale('linear')\n",
    "    \n",
    "        plt.ylabel(r'$P_l(k,z=0)_\\mathrm{ETHOS} \\ \\ / \\ \\ P_l(k,z=0)_{\\Lambda\\mathrm{CDM}}$', fontsize=13)\n",
    "        plt.xlabel(r'k [h/Mpc]', fontsize=13)\n",
    "        #plt.title(r'$x = \\frac{m_\\mathrm{WDM}}{T_\\mathrm{WDM}} \\left(\\frac{4}{11}\\right)^{1/3} T_\\gamma$= {a} eV'.format(a=m))\n",
    "        plt.title(r'$n=$'+r'{a}'.format(a=n_ethos))\n",
    "        plt.legend()\n",
    "    \n",
    "        plt.savefig('ratio_of_pklin.png')"
   ]
  },
  {
   "cell_type": "code",
   "execution_count": null,
   "metadata": {},
   "outputs": [],
   "source": []
  }
 ],
 "metadata": {
  "kernelspec": {
   "display_name": "Python 3",
   "language": "python",
   "name": "python3"
  },
  "language_info": {
   "codemirror_mode": {
    "name": "ipython",
    "version": 3
   },
   "file_extension": ".py",
   "mimetype": "text/x-python",
   "name": "python",
   "nbconvert_exporter": "python",
   "pygments_lexer": "ipython3",
   "version": "3.7.5"
  },
  "toc": {
   "base_numbering": 1,
   "nav_menu": {},
   "number_sections": false,
   "sideBar": true,
   "skip_h1_title": false,
   "title_cell": "Table of Contents",
   "title_sidebar": "Contents",
   "toc_cell": false,
   "toc_position": {},
   "toc_section_display": true,
   "toc_window_display": false
  },
  "varInspector": {
   "cols": {
    "lenName": 16,
    "lenType": 16,
    "lenVar": 40
   },
   "kernels_config": {
    "python": {
     "delete_cmd_postfix": "",
     "delete_cmd_prefix": "del ",
     "library": "var_list.py",
     "varRefreshCmd": "print(var_dic_list())"
    },
    "r": {
     "delete_cmd_postfix": ") ",
     "delete_cmd_prefix": "rm(",
     "library": "var_list.r",
     "varRefreshCmd": "cat(var_dic_list()) "
    }
   },
   "types_to_exclude": [
    "module",
    "function",
    "builtin_function_or_method",
    "instance",
    "_Feature"
   ],
   "window_display": false
  }
 },
 "nbformat": 4,
 "nbformat_minor": 5
}
