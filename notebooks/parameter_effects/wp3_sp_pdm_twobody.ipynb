{
 "cells": [
  {
   "cell_type": "markdown",
   "metadata": {},
   "source": [
    "# For Unit conversion"
   ]
  },
  {
   "cell_type": "code",
   "execution_count": 18,
   "metadata": {
    "ExecuteTime": {
     "end_time": "2022-01-31T10:57:44.395148Z",
     "start_time": "2022-01-31T10:57:44.390705Z"
    }
   },
   "outputs": [],
   "source": [
    "from astropy import units as u"
   ]
  },
  {
   "cell_type": "code",
   "execution_count": 27,
   "metadata": {
    "ExecuteTime": {
     "end_time": "2022-01-31T11:00:52.905069Z",
     "start_time": "2022-01-31T11:00:52.901014Z"
    }
   },
   "outputs": [],
   "source": [
    "## Provide the list of values for Gamma  in units of Gyr(^-1)\n",
    "\n",
    "Gamma = [1/300,1/100,1/30,1/10]\n",
    "\n",
    "temp = [1/300,1/100,1/30,1/10]*u.Gyr**-1\n",
    "Gamma_dcdm = temp.to(u.km/u.Mpc/u.s).value"
   ]
  },
  {
   "cell_type": "code",
   "execution_count": 28,
   "metadata": {
    "ExecuteTime": {
     "end_time": "2022-01-31T11:00:56.056930Z",
     "start_time": "2022-01-31T11:00:56.053310Z"
    }
   },
   "outputs": [
    {
     "data": {
      "text/plain": [
       "array([ 3.25930741,  9.77792222, 32.59307406, 97.77922217])"
      ]
     },
     "execution_count": 28,
     "metadata": {},
     "output_type": "execute_result"
    }
   ],
   "source": [
    "Gamma_dcdm"
   ]
  },
  {
   "cell_type": "code",
   "execution_count": 68,
   "metadata": {
    "ExecuteTime": {
     "end_time": "2022-01-31T11:43:15.926534Z",
     "start_time": "2022-01-31T11:43:15.923968Z"
    }
   },
   "outputs": [],
   "source": [
    "## Default values used in the paper, please comment them in case you don't want to use these values \n",
    "epsilon = np.array([0.4999, 0.1, 0.01, 0.001])\n",
    "Gamma_dcdm = np.array([3.2679,9.8039, 32.679, 98.0392])"
   ]
  },
  {
   "cell_type": "markdown",
   "metadata": {
    "heading_collapsed": true
   },
   "source": [
    "# Common Settings"
   ]
  },
  {
   "cell_type": "code",
   "execution_count": 67,
   "metadata": {
    "ExecuteTime": {
     "end_time": "2022-01-31T11:42:48.464779Z",
     "start_time": "2022-01-31T11:42:48.461756Z"
    },
    "hidden": true
   },
   "outputs": [],
   "source": [
    "import matplotlib.pyplot as plt\n",
    "import numpy as np\n",
    "from classy import Class\n",
    "\n",
    "#set general configuration\n",
    "common_settings = {'output':'tCl,pCl,lCl, mPk',\n",
    "                   'lensing':'yes',\n",
    "                   'l_max_scalars':2600,\n",
    "                   'n_s':0.9673,\n",
    "                   'ln10^{10}A_s':3.052,\n",
    "                   'tau_reio':0.0582,\n",
    "                   'omega_b': 0.0224,\n",
    "                   '100*theta_s':1.042168,\n",
    "                   'P_k_max_h/Mpc':1.0\n",
    "                   }\n"
   ]
  },
  {
   "cell_type": "code",
   "execution_count": 38,
   "metadata": {
    "ExecuteTime": {
     "end_time": "2022-01-31T11:06:01.575573Z",
     "start_time": "2022-01-31T11:06:01.572978Z"
    },
    "hidden": true
   },
   "outputs": [],
   "source": [
    "colors = ['red','green','blue','black']"
   ]
  },
  {
   "cell_type": "markdown",
   "metadata": {
    "hidden": true
   },
   "source": [
    "## Reference Model"
   ]
  },
  {
   "cell_type": "code",
   "execution_count": 7,
   "metadata": {
    "ExecuteTime": {
     "end_time": "2022-01-31T10:52:43.864595Z",
     "start_time": "2022-01-31T10:52:19.589874Z"
    },
    "hidden": true
   },
   "outputs": [],
   "source": [
    "ref = Class()\n",
    "ref.set(common_settings)\n",
    "ref.set({\n",
    "        'omega_cdm': 0.1194,\n",
    "        'N_ncdm':1,\n",
    "        'background_ncdm_distribution': 0,\n",
    "        'N_ur':2.0328,\n",
    "        'm_ncdm':0.06\n",
    "        })\n",
    "ref.compute()"
   ]
  },
  {
   "cell_type": "code",
   "execution_count": 41,
   "metadata": {
    "ExecuteTime": {
     "end_time": "2022-01-31T11:15:25.871334Z",
     "start_time": "2022-01-31T11:15:25.576381Z"
    },
    "hidden": true
   },
   "outputs": [],
   "source": [
    "kk = np.logspace(-4,np.log10(1),10000) # k in h/Mpc\n",
    "pk_ref = np.vectorize(ref.pk)(kk*ref.h(),0) * ref.h()**3"
   ]
  },
  {
   "cell_type": "code",
   "execution_count": 46,
   "metadata": {
    "ExecuteTime": {
     "end_time": "2022-01-31T11:22:54.239353Z",
     "start_time": "2022-01-31T11:22:54.237346Z"
    },
    "hidden": true
   },
   "outputs": [],
   "source": [
    "## Saving the result for future use - uncomment to save it\n",
    "# np.save('pk_ref',pk_ref)"
   ]
  },
  {
   "cell_type": "markdown",
   "metadata": {},
   "source": [
    "# Varying $\\epsilon$"
   ]
  },
  {
   "cell_type": "code",
   "execution_count": 39,
   "metadata": {
    "ExecuteTime": {
     "end_time": "2022-01-31T11:06:04.568707Z",
     "start_time": "2022-01-31T11:06:04.565560Z"
    }
   },
   "outputs": [],
   "source": [
    "varying_eps = {\n",
    "'omega_cdm': 0.00001,\n",
    "'omega_ini_dcdm2':  0.1194,\n",
    "'Gamma_dcdm': 32.593,\n",
    "'M_dcdm': 1,\n",
    "'background_ncdm_distribution': '0,1',\n",
    "'Quadrature strategy': '0,4',\n",
    "'N_ncdm': 2,\n",
    "'N_ur':2.0328,\n",
    "'m_ncdm':'0.06,0',\n",
    "'evolver': 0,\n",
    "'ncdm_fluid_approximation': 2,\n",
    "'ncdm_fluid_trigger_tau_over_tau_k': 25,\n",
    "'Number of momentum bins perturbs': '50,300',\n",
    "'massive_daughter_perturbations': 'yes',\n",
    "'dark_radiation_perturbations': 'yes'\n",
    "}\n",
    "M=Class()"
   ]
  },
  {
   "cell_type": "code",
   "execution_count": 40,
   "metadata": {
    "ExecuteTime": {
     "end_time": "2022-01-31T11:15:03.841312Z",
     "start_time": "2022-01-31T11:06:06.734857Z"
    }
   },
   "outputs": [],
   "source": [
    "for i in range(len(epsilon)) :\n",
    "    M.empty()\n",
    "    M.set(common_settings)\n",
    "    M.set(varying_eps)\n",
    "    M.set({'epsilon_dcdm' : epsilon[i]})\n",
    "    M.compute()\n",
    "    globals()['pk_M_e_'+str(i)] = np.vectorize(M.pk)(kk*M.h(),0) * M.h()**3"
   ]
  },
  {
   "cell_type": "code",
   "execution_count": 47,
   "metadata": {
    "ExecuteTime": {
     "end_time": "2022-01-31T11:23:10.678997Z",
     "start_time": "2022-01-31T11:23:10.676877Z"
    }
   },
   "outputs": [],
   "source": [
    "### The arrays are saved just to save time in case we are plotting them again.\n",
    "\n",
    "# np.save('eps=0.5',pk_M_e_0)\n",
    "# np.save('eps=0.1',pk_M_e_1)\n",
    "# np.save('eps=0.01',pk_M_e_2)\n",
    "# np.save('eps=0.001',pk_M_e_3)"
   ]
  },
  {
   "cell_type": "code",
   "execution_count": 49,
   "metadata": {
    "ExecuteTime": {
     "end_time": "2022-01-31T11:23:55.598741Z",
     "start_time": "2022-01-31T11:23:55.596789Z"
    }
   },
   "outputs": [],
   "source": [
    "### Load these arrays if needed - uncomment to load them\n",
    "\n",
    "# pk_M_e_0=np.load('eps=0.5'+'.npy')\n",
    "# pk_M_e_1=np.load('eps=0.5'+'.npy')\n",
    "# pk_M_e_2=np.load('eps=0.01'+'.npy')\n",
    "# pk_M_e_3=np.load('eps=0.001'+'.npy')"
   ]
  },
  {
   "cell_type": "code",
   "execution_count": 70,
   "metadata": {
    "ExecuteTime": {
     "end_time": "2022-01-31T11:44:31.931748Z",
     "start_time": "2022-01-31T11:44:31.196836Z"
    }
   },
   "outputs": [
    {
     "data": {
      "text/plain": [
       "<matplotlib.legend.Legend at 0x2af75ce88340>"
      ]
     },
     "execution_count": 70,
     "metadata": {},
     "output_type": "execute_result"
    },
    {
     "data": {
      "image/png": "[encoded data removed]",
      "text/plain": [
       "<Figure size 432x288 with 1 Axes>"
      ]
     },
     "metadata": {
      "needs_background": "light"
     },
     "output_type": "display_data"
    }
   ],
   "source": [
    "### This reproduces figure 4 (right) of https://arxiv.org/pdf/2102.12498.pdf\n",
    "for i in range(4):\n",
    "    plt.semilogx(kk,(eval('pk_M_e_'+str(i))/pk_ref)-np.ones_like(pk_ref),label=r'$\\epsilon={a}$'.format(a=epsilon[i]),color=colors[i],lw=1)\n",
    "plt.ylim((-.6,.3))\n",
    "plt.xlabel('k [h/Mpc]')\n",
    "plt.ylabel(r'P(k, $\\Lambda$DDM) / P(k,$\\Lambda$CDM) - 1')\n",
    "plt.title(r'$\\Gamma^{-1} = 30 Gyr $')\n",
    "plt.legend()"
   ]
  },
  {
   "cell_type": "markdown",
   "metadata": {},
   "source": [
    "# Varying Gamma"
   ]
  },
  {
   "cell_type": "code",
   "execution_count": 53,
   "metadata": {
    "ExecuteTime": {
     "end_time": "2022-01-31T11:25:06.192927Z",
     "start_time": "2022-01-31T11:25:06.189587Z"
    }
   },
   "outputs": [],
   "source": [
    "varying_gamma = {\n",
    "'omega_cdm': 0.00001,\n",
    "'omega_ini_dcdm2':  0.1194,\n",
    "'M_dcdm': 1,\n",
    "'background_ncdm_distribution': '0,1',\n",
    "'Quadrature strategy': '0,4',\n",
    "'N_ncdm': 2,\n",
    "'N_ur':2.0328,\n",
    "'m_ncdm':'0.06,0',\n",
    "'epsilon_dcdm': 0.1,   \n",
    "'evolver': 0,\n",
    "'ncdm_fluid_approximation': 2,\n",
    "'ncdm_fluid_trigger_tau_over_tau_k': 25,\n",
    "'Number of momentum bins perturbs': '50,300',\n",
    "'massive_daughter_perturbations': 'yes',\n",
    "'dark_radiation_perturbations': 'yes'\n",
    "}\n",
    "M=Class()"
   ]
  },
  {
   "cell_type": "code",
   "execution_count": 54,
   "metadata": {
    "ExecuteTime": {
     "end_time": "2022-01-31T11:34:05.164467Z",
     "start_time": "2022-01-31T11:25:12.868957Z"
    }
   },
   "outputs": [],
   "source": [
    "for i in range(len(Gamma_dcdm)) :\n",
    "    M.empty()\n",
    "    M.set(common_settings)\n",
    "    M.set(varying_gamma)\n",
    "    M.set({'Gamma_dcdm' : Gamma_dcdm[i]})\n",
    "    M.compute()\n",
    "    globals()['pk_M_G_'+str(i)] = np.vectorize(M.pk)(kk*M.h(),0) * M.h()**3"
   ]
  },
  {
   "cell_type": "code",
   "execution_count": 58,
   "metadata": {
    "ExecuteTime": {
     "end_time": "2022-01-31T11:35:38.514815Z",
     "start_time": "2022-01-31T11:35:38.492910Z"
    }
   },
   "outputs": [],
   "source": [
    "# np.save('gamma=300',pk_M_G_0)\n",
    "# np.save('gamma=100',pk_M_G_1)\n",
    "# np.save('gamma=30',pk_M_G_2)\n",
    "# np.save('gamma=10',pk_M_G_3)"
   ]
  },
  {
   "cell_type": "code",
   "execution_count": 59,
   "metadata": {
    "ExecuteTime": {
     "end_time": "2022-01-31T11:35:53.043664Z",
     "start_time": "2022-01-31T11:35:53.037880Z"
    }
   },
   "outputs": [],
   "source": [
    "# pk_M_G_0=np.load('gamma=300'+'.npy')\n",
    "# pk_M_G_1=np.load('gamma=100'+'.npy')\n",
    "# pk_M_G_2=np.load('gamma=30'+'.npy')\n",
    "# pk_M_G_3=np.load('gamma=10'+'.npy')"
   ]
  },
  {
   "cell_type": "code",
   "execution_count": 69,
   "metadata": {
    "ExecuteTime": {
     "end_time": "2022-01-31T11:44:22.819299Z",
     "start_time": "2022-01-31T11:44:22.310840Z"
    },
    "scrolled": false
   },
   "outputs": [
    {
     "data": {
      "text/plain": [
       "<matplotlib.legend.Legend at 0x2af75cd66460>"
      ]
     },
     "execution_count": 69,
     "metadata": {},
     "output_type": "execute_result"
    },
    {
     "data": {
      "image/png": "[encoded data removed]",
      "text/plain": [
       "<Figure size 432x288 with 1 Axes>"
      ]
     },
     "metadata": {
      "needs_background": "light"
     },
     "output_type": "display_data"
    }
   ],
   "source": [
    "### This reproduces figure 4 left of https://arxiv.org/pdf/2102.12498.pdf\n",
    "labels = ['300 Gyr', '100 Gyr', '30 Gyr', '10 Gyr']\n",
    "for i in range(4):\n",
    "    plt.semilogx(kk,(eval('pk_M_G_'+str(i))/pk_ref)-np.ones_like(pk_ref),label=r'$\\Gamma^{-1} = $' + labels[i],color=colors[i],lw=1)\n",
    "plt.ylim((-.95,.1))\n",
    "plt.title(r'$\\epsilon = 0.1$')\n",
    "plt.xlabel('k [h/Mpc]')\n",
    "plt.ylabel(r'P(k, $\\Lambda$DDM) / P(k,$\\Lambda$CDM) - 1')\n",
    "plt.legend()"
   ]
  },
  {
   "cell_type": "code",
   "execution_count": null,
   "metadata": {},
   "outputs": [],
   "source": []
  }
 ],
 "metadata": {
  "kernelspec": {
   "display_name": "Python 3",
   "language": "python",
   "name": "python3"
  },
  "language_info": {
   "codemirror_mode": {
    "name": "ipython",
    "version": 3
   },
   "file_extension": ".py",
   "mimetype": "text/x-python",
   "name": "python",
   "nbconvert_exporter": "python",
   "pygments_lexer": "ipython3",
   "version": "3.7.5"
  },
  "toc": {
   "base_numbering": 1,
   "nav_menu": {},
   "number_sections": true,
   "sideBar": true,
   "skip_h1_title": false,
   "title_cell": "Table of Contents",
   "title_sidebar": "Contents",
   "toc_cell": false,
   "toc_position": {},
   "toc_section_display": true,
   "toc_window_display": false
  }
 },
 "nbformat": 4,
 "nbformat_minor": 5
}
